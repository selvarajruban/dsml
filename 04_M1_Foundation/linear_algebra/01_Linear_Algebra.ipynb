{
 "cells": [
  {
   "attachments": {},
   "cell_type": "markdown",
   "metadata": {},
   "source": [
    "Linear Algebra"
   ]
  },
  {
   "attachments": {},
   "cell_type": "markdown",
   "metadata": {},
   "source": [
    "System of Equations"
   ]
  },
  {
   "cell_type": "code",
   "execution_count": 3,
   "metadata": {
    "vscode": {
     "languageId": "python"
    }
   },
   "outputs": [
    {
     "name": "stdout",
     "output_type": "stream",
     "text": [
      "7\n"
     ]
    }
   ],
   "source": [
    "\"\"\"\n",
    "Understanding \n",
    "    * Unique Solution\n",
    "    * No Solution\n",
    "    * Infinite number of solutions\n",
    "\n",
    "Equations, Knowns, Unknowns\n",
    "Relationships\n",
    "Linear - No Square, Root\n",
    "\n",
    "1 Equation, 1 Unknown => unique solution\n",
    "1 Equations, 2 unknowns => infinite number of solutions\n",
    "Inconsistence information => No Solution\n",
    "\n",
    "error in qin and error in out, then take average to fix this.\n",
    "Weighted average for huge variances between qin and qout (How to decide weights)\n",
    "High variance - unreliable\n",
    "Low variance - reliable\n",
    "\n",
    "Linear Equations - Each equation is line\n",
    "Non-Linear = equation is curve\n",
    "\"\"\"\n",
    "\n",
    "import sympy as sy\n",
    "D=sy.Matrix([[A , B], [C, 0]])\n",
    "print(D)\n",
    "\n",
    "Confustion Matrix, Symmetric - > Quantitative approach\n",
    "\n",
    "\n",
    "\n",
    "1 0 0\n",
    "0 1 0\n",
    "1 1 0\n",
    "\n",
    "1 0 1\n",
    "0 1 1\n",
    "0 0 0\n",
    "\n",
    "A 1 \n",
    "C 0\n",
    "\n",
    "A C\n",
    "1 0\n",
    "\n",
    "A2 C2\n",
    "1 0\n"
   ]
  },
  {
   "cell_type": "code",
   "execution_count": 6,
   "metadata": {
    "vscode": {
     "languageId": "python"
    }
   },
   "outputs": [
    {
     "ename": "NameError",
     "evalue": "name 'A' is not defined",
     "output_type": "error",
     "traceback": [
      "\u001b[1;31m---------------------------------------------------------------------------\u001b[0m",
      "\u001b[1;31mNameError\u001b[0m                                 Traceback (most recent call last)",
      "\u001b[1;32md:\\projects\\my_git\\DSML_Practise\\dsml\\linear_algebra\\01_Linear_Algebra.ipynb Cell 4\u001b[0m in \u001b[0;36m<cell line: 2>\u001b[1;34m()\u001b[0m\n\u001b[0;32m      <a href='vscode-notebook-cell:/d%3A/projects/my_git/DSML_Practise/dsml/linear_algebra/01_Linear_Algebra.ipynb#W6sZmlsZQ%3D%3D?line=0'>1</a>\u001b[0m \u001b[39mimport\u001b[39;00m \u001b[39msympy\u001b[39;00m \u001b[39mas\u001b[39;00m \u001b[39msy\u001b[39;00m\n\u001b[1;32m----> <a href='vscode-notebook-cell:/d%3A/projects/my_git/DSML_Practise/dsml/linear_algebra/01_Linear_Algebra.ipynb#W6sZmlsZQ%3D%3D?line=1'>2</a>\u001b[0m D\u001b[39m=\u001b[39msy\u001b[39m.\u001b[39mMatrix([[A , B], [C, \u001b[39m0\u001b[39m]])\n\u001b[0;32m      <a href='vscode-notebook-cell:/d%3A/projects/my_git/DSML_Practise/dsml/linear_algebra/01_Linear_Algebra.ipynb#W6sZmlsZQ%3D%3D?line=2'>3</a>\u001b[0m \u001b[39mprint\u001b[39m(D)\n",
      "\u001b[1;31mNameError\u001b[0m: name 'A' is not defined"
     ]
    }
   ],
   "source": [
    "import sympy as sy\n",
    "D=sy.Matrix([[A , B], [C, 0]])\n",
    "print(D)"
   ]
  },
  {
   "cell_type": "code",
   "execution_count": null,
   "metadata": {
    "vscode": {
     "languageId": "python"
    }
   },
   "outputs": [],
   "source": [
    "\"\"\"\n",
    "Simple equation to solve\n",
    "\"\"\"\n",
    "\n",
    "4x - 2y = 0\n",
    "-2x + 4y  = 6"
   ]
  }
 ],
 "metadata": {
  "kernelspec": {
   "display_name": "Python 3 (ipykernel)",
   "language": "python",
   "name": "python3"
  },
  "orig_nbformat": 4
 },
 "nbformat": 4,
 "nbformat_minor": 2
}
