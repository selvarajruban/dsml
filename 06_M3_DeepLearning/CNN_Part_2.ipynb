{
  "nbformat": 4,
  "nbformat_minor": 0,
  "metadata": {
    "colab": {
      "provenance": [],
      "authorship_tag": "ABX9TyOhHTqfKpg2EiYoAyMh731J",
      "include_colab_link": true
    },
    "kernelspec": {
      "name": "python3",
      "display_name": "Python 3"
    },
    "language_info": {
      "name": "python"
    }
  },
  "cells": [
    {
      "cell_type": "markdown",
      "metadata": {
        "id": "view-in-github",
        "colab_type": "text"
      },
      "source": [
        "<a href=\"https://colab.research.google.com/github/selvarajruban/dsml/blob/main/06_M3_DeepLearning/CNN_Part_2.ipynb\" target=\"_parent\"><img src=\"https://colab.research.google.com/assets/colab-badge.svg\" alt=\"Open In Colab\"/></a>"
      ]
    },
    {
      "cell_type": "code",
      "execution_count": null,
      "metadata": {
        "id": "QRCf-ba5w9kK"
      },
      "outputs": [],
      "source": [
        "ImageNet challenge\n",
        "\n",
        "1. training of 1.4 million images\n",
        "2. 1000 classes\n",
        "3. image recognition challenge\n",
        "4 top 5 prediction error rates\n"
      ]
    },
    {
      "cell_type": "code",
      "source": [
        "ResNet (Residual Neural Network) vs DenseNet (Densely Connected Convolutional Networks)\n"
      ],
      "metadata": {
        "id": "aH-8nSMDxFqr"
      },
      "execution_count": null,
      "outputs": []
    },
    {
      "cell_type": "code",
      "source": [],
      "metadata": {
        "id": "-7BlF22YMnyz"
      },
      "execution_count": null,
      "outputs": []
    }
  ]
}