{
 "cells": [
  {
   "attachments": {},
   "cell_type": "markdown",
   "metadata": {},
   "source": [
    "Linear Algebra"
   ]
  },
  {
   "attachments": {},
   "cell_type": "markdown",
   "metadata": {},
   "source": [
    "System of Equations"
   ]
  },
  {
   "cell_type": "code",
   "execution_count": 3,
   "metadata": {},
   "outputs": [
    {
     "name": "stdout",
     "output_type": "stream",
     "text": [
      "7\n"
     ]
    }
   ],
   "source": [
    "\"\"\"\n",
    "Understanding \n",
    "    * Unique Solution\n",
    "    * No Solution\n",
    "    * Infinite number of solutions\n",
    "     \n",
    "Equations, Knowns, Unknowns\n",
    "Relationships\n",
    "Linear - No Square, Root\n",
    "\n",
    "1 Equation, 1 Unknown => unique solution\n",
    "1 Equations, 2 unknowns => infinite number of solutions\n",
    "Inconsistence information => No Solution\n",
    "\n",
    "error in qin and error in out, then take average to fix this.\n",
    "Weighted average for huge variances between qin and qout (How to decide weights)\n",
    "High variance - unreliable\n",
    "Low variance - reliable\n",
    "\"\"\"\n",
    "\n"
   ]
  }
 ],
 "metadata": {
  "kernelspec": {
   "display_name": "Python 3 (ipykernel)",
   "language": "python",
   "name": "python3"
  },
  "language_info": {
   "codemirror_mode": {
    "name": "ipython",
    "version": 3
   },
   "file_extension": ".py",
   "mimetype": "text/x-python",
   "name": "python",
   "nbconvert_exporter": "python",
   "pygments_lexer": "ipython3",
   "version": "3.9.12"
  },
  "orig_nbformat": 4
 },
 "nbformat": 4,
 "nbformat_minor": 2
}
