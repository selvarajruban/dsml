{
  "nbformat": 4,
  "nbformat_minor": 0,
  "metadata": {
    "colab": {
      "provenance": [],
      "authorship_tag": "ABX9TyOljTViNbGqE/IJmnaMyXLs"
    },
    "kernelspec": {
      "name": "python3",
      "display_name": "Python 3"
    },
    "language_info": {
      "name": "python"
    }
  },
  "cells": [
    {
      "cell_type": "code",
      "execution_count": null,
      "metadata": {
        "colab": {
          "base_uri": "https://localhost:8080/"
        },
        "id": "WVgbIJURVBpx",
        "outputId": "222bbbe6-3391-4bd7-823d-a2dd0c87859a"
      },
      "outputs": [
        {
          "output_type": "stream",
          "name": "stdout",
          "text": [
            "This is python basics for ADSML\n"
          ]
        }
      ],
      "source": [
        "print(\"This is python basics for ADSML\")"
      ]
    },
    {
      "cell_type": "code",
      "source": [
        "print(3+5)"
      ],
      "metadata": {
        "id": "79lzipsgVJq2",
        "outputId": "3cdf34f6-52a0-49bc-b701-00499ef63922",
        "colab": {
          "base_uri": "https://localhost:8080/"
        }
      },
      "execution_count": 1,
      "outputs": [
        {
          "output_type": "stream",
          "name": "stdout",
          "text": [
            "8\n"
          ]
        }
      ]
    }
  ]
}