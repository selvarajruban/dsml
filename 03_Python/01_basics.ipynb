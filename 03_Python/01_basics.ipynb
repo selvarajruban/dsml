{
  "nbformat": 4,
  "nbformat_minor": 0,
  "metadata": {
    "colab": {
      "provenance": [],
      "authorship_tag": "ABX9TyPXhs4X6sT0xDOkUdy9sKsJ"
    },
    "kernelspec": {
      "name": "python3",
      "display_name": "Python 3"
    },
    "language_info": {
      "name": "python"
    }
  },
  "cells": [
    {
      "cell_type": "code",
      "execution_count": null,
      "metadata": {
        "colab": {
          "base_uri": "https://localhost:8080/"
        },
        "id": "WVgbIJURVBpx",
        "outputId": "222bbbe6-3391-4bd7-823d-a2dd0c87859a"
      },
      "outputs": [
        {
          "output_type": "stream",
          "name": "stdout",
          "text": [
            "This is python basics for ADSML\n"
          ]
        }
      ],
      "source": [
        "print(\"This is python basics for ADSML\")"
      ]
    },
    {
      "cell_type": "code",
      "source": [
        "print(3+5)"
      ],
      "metadata": {
        "id": "79lzipsgVJq2",
        "colab": {
          "base_uri": "https://localhost:8080/"
        },
        "outputId": "3cdf34f6-52a0-49bc-b701-00499ef63922"
      },
      "execution_count": 1,
      "outputs": [
        {
          "output_type": "stream",
          "name": "stdout",
          "text": [
            "8\n"
          ]
        }
      ]
    },
    {
      "cell_type": "code",
      "source": [
        "a = 5\n",
        "b = 8\n",
        "a==b"
      ],
      "metadata": {
        "colab": {
          "base_uri": "https://localhost:8080/"
        },
        "id": "CcFy1BYTeiAT",
        "outputId": "b1ef933f-c0b9-42b2-824f-675e9ece0ff2"
      },
      "execution_count": 2,
      "outputs": [
        {
          "output_type": "execute_result",
          "data": {
            "text/plain": [
              "False"
            ]
          },
          "metadata": {},
          "execution_count": 2
        }
      ]
    },
    {
      "cell_type": "code",
      "source": [
        "b/a"
      ],
      "metadata": {
        "colab": {
          "base_uri": "https://localhost:8080/"
        },
        "id": "5UaHue3YelNJ",
        "outputId": "8997b9af-86aa-44bf-f888-d812658e8e7b"
      },
      "execution_count": 3,
      "outputs": [
        {
          "output_type": "execute_result",
          "data": {
            "text/plain": [
              "1.6"
            ]
          },
          "metadata": {},
          "execution_count": 3
        }
      ]
    },
    {
      "cell_type": "code",
      "source": [
        "a//b"
      ],
      "metadata": {
        "colab": {
          "base_uri": "https://localhost:8080/"
        },
        "id": "W8yjJXsCenzG",
        "outputId": "388ffe91-9620-4bd9-b14f-17d9bcdab2b2"
      },
      "execution_count": 8,
      "outputs": [
        {
          "output_type": "execute_result",
          "data": {
            "text/plain": [
              "0"
            ]
          },
          "metadata": {},
          "execution_count": 8
        }
      ]
    },
    {
      "cell_type": "code",
      "source": [
        "a % b"
      ],
      "metadata": {
        "colab": {
          "base_uri": "https://localhost:8080/"
        },
        "id": "NUqblfFRe0EW",
        "outputId": "2e3ed315-906b-4a6c-c369-a6cfab0a4c29"
      },
      "execution_count": 21,
      "outputs": [
        {
          "output_type": "execute_result",
          "data": {
            "text/plain": [
              "5"
            ]
          },
          "metadata": {},
          "execution_count": 21
        }
      ]
    },
    {
      "cell_type": "code",
      "source": [
        "type(5j)"
      ],
      "metadata": {
        "id": "YUAmoyregLQp",
        "outputId": "bb0850b8-ae49-4b13-b3b5-3fe81ba9243f",
        "colab": {
          "base_uri": "https://localhost:8080/"
        }
      },
      "execution_count": 22,
      "outputs": [
        {
          "output_type": "execute_result",
          "data": {
            "text/plain": [
              "complex"
            ]
          },
          "metadata": {},
          "execution_count": 22
        }
      ]
    },
    {
      "cell_type": "code",
      "source": [
        "a = \"hello world. this is example\"\n",
        "\n",
        "a.count(\"d\")\n",
        "a.upper()\n",
        "a.capitalize() # first letter is upper and remaining same"
      ],
      "metadata": {
        "id": "TwUSPnGng-uw",
        "outputId": "c93b1b12-1699-4894-f59a-2a02405aa54c",
        "colab": {
          "base_uri": "https://localhost:8080/",
          "height": 35
        }
      },
      "execution_count": 28,
      "outputs": [
        {
          "output_type": "execute_result",
          "data": {
            "text/plain": [
              "'Hello world. this is example'"
            ],
            "application/vnd.google.colaboratory.intrinsic+json": {
              "type": "string"
            }
          },
          "metadata": {},
          "execution_count": 28
        }
      ]
    },
    {
      "cell_type": "code",
      "source": [
        "_str_ = \"this is my first program\"\n",
        "\n",
        "_str_[0:5:2] # [start, stop, step]\n"
      ],
      "metadata": {
        "id": "EfnbgO_mha11",
        "outputId": "78f554fb-6fbc-4e16-cc60-63286fc6d451",
        "colab": {
          "base_uri": "https://localhost:8080/",
          "height": 35
        }
      },
      "execution_count": 32,
      "outputs": [
        {
          "output_type": "execute_result",
          "data": {
            "text/plain": [
              "'ti '"
            ],
            "application/vnd.google.colaboratory.intrinsic+json": {
              "type": "string"
            }
          },
          "metadata": {},
          "execution_count": 32
        }
      ]
    },
    {
      "cell_type": "code",
      "source": [
        "_str_ = \"this is my first program\"\n",
        "\n",
        "_str_[::-1] # reverse string\n"
      ],
      "metadata": {
        "id": "FGzLfObDhqYy",
        "outputId": "7eceeb97-5c3a-4c0c-89b1-78d82172b996",
        "colab": {
          "base_uri": "https://localhost:8080/",
          "height": 35
        }
      },
      "execution_count": 33,
      "outputs": [
        {
          "output_type": "execute_result",
          "data": {
            "text/plain": [
              "'margorp tsrif ym si siht'"
            ],
            "application/vnd.google.colaboratory.intrinsic+json": {
              "type": "string"
            }
          },
          "metadata": {},
          "execution_count": 33
        }
      ]
    },
    {
      "cell_type": "code",
      "source": [
        "lower_str = _str_.lower()\n",
        "lower_str"
      ],
      "metadata": {
        "id": "u4k9-mhFh9oV",
        "outputId": "21c3d4b9-00ca-475d-fd3e-fb98b58f9dda",
        "colab": {
          "base_uri": "https://localhost:8080/",
          "height": 35
        }
      },
      "execution_count": 34,
      "outputs": [
        {
          "output_type": "execute_result",
          "data": {
            "text/plain": [
              "'this is my first program'"
            ],
            "application/vnd.google.colaboratory.intrinsic+json": {
              "type": "string"
            }
          },
          "metadata": {},
          "execution_count": 34
        }
      ]
    },
    {
      "cell_type": "code",
      "source": [
        "lower_str = _str_.upper()\n",
        "lower_str"
      ],
      "metadata": {
        "id": "2HaXbVobiChY",
        "outputId": "212c2e89-700f-4cc8-da56-97c6ada17ba2",
        "colab": {
          "base_uri": "https://localhost:8080/",
          "height": 35
        }
      },
      "execution_count": 35,
      "outputs": [
        {
          "output_type": "execute_result",
          "data": {
            "text/plain": [
              "'THIS IS MY FIRST PROGRAM'"
            ],
            "application/vnd.google.colaboratory.intrinsic+json": {
              "type": "string"
            }
          },
          "metadata": {},
          "execution_count": 35
        }
      ]
    },
    {
      "cell_type": "code",
      "source": [
        "lower_str = _str_.capitalize()\n",
        "lower_str"
      ],
      "metadata": {
        "id": "0RL2ooSziE5u",
        "outputId": "c2de715f-48a1-43e9-bae9-47cbc926a359",
        "colab": {
          "base_uri": "https://localhost:8080/",
          "height": 35
        }
      },
      "execution_count": 36,
      "outputs": [
        {
          "output_type": "execute_result",
          "data": {
            "text/plain": [
              "'This is my first program'"
            ],
            "application/vnd.google.colaboratory.intrinsic+json": {
              "type": "string"
            }
          },
          "metadata": {},
          "execution_count": 36
        }
      ]
    },
    {
      "cell_type": "code",
      "source": [
        "a, b = 10, 20\n",
        "if a < b:\n",
        "  print(f\"{a} is less than {b}\")"
      ],
      "metadata": {
        "id": "X5x42EC0ih6q",
        "outputId": "9bb394c4-e768-4553-c20f-630146dbf6f4",
        "colab": {
          "base_uri": "https://localhost:8080/"
        }
      },
      "execution_count": 40,
      "outputs": [
        {
          "output_type": "stream",
          "name": "stdout",
          "text": [
            "10 is less than 20\n"
          ]
        }
      ]
    },
    {
      "cell_type": "code",
      "source": [
        "a, b = 20, 10\n",
        "if a > b:\n",
        "  print(f\"{a} is greater than {b}\")\n",
        "else:\n",
        "  print(f\"{a} is less than {b}\")"
      ],
      "metadata": {
        "id": "5uWun4hvit7A",
        "outputId": "cbb22076-b030-499e-968b-c7e48ac706a6",
        "colab": {
          "base_uri": "https://localhost:8080/"
        }
      },
      "execution_count": 46,
      "outputs": [
        {
          "output_type": "stream",
          "name": "stdout",
          "text": [
            "20 is greater than 10\n"
          ]
        }
      ]
    },
    {
      "cell_type": "code",
      "source": [],
      "metadata": {
        "id": "AK6oLilfiljK"
      },
      "execution_count": null,
      "outputs": []
    }
  ]
}